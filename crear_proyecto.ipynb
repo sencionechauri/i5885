{
  "cells": [
    {
      "cell_type": "markdown",
      "source": [
        "# <center>Crear un proyecto de interfaz gráfica en Qt</center>"
      ],
      "metadata": {
        "nteract": {
          "transient": {
            "deleting": false
          }
        }
      }
    },
    {
      "cell_type": "markdown",
      "source": [
        "## <center>Proyecto Nuevo</center>\n",
        "En este notebook veremos cómo crear un proyacto de interfaces gráficas con Qt Creator.\n",
        "\n",
        "Como primer paso debemos seleccionar la opción de crear un nuevo proyecto, para ello daremos click en el botón *new* o *nuevo* que se encuentra en la pantalla de bienvenida de Qt Creator.\n",
        "\n",
        "![paso 1](media/screen1.png \"Proyecto nuevo\")"
      ],
      "metadata": {
        "nteract": {
          "transient": {
            "deleting": false
          }
        }
      }
    },
    {
      "cell_type": "markdown",
      "source": [
        "## <center>Tipo de Proyecto</center>\n",
        "El siguiente paso es seleccionar el tipo de proyecto que deseamos crear. En este caso necesitamos seleccionar la categoría *Application* y dentro de ella la opción *Qt WidgetsApplication* tal como se muestra en la imagen.\n",
        "![paso 2](media/screen2.png \"Tipo de proyecto\")"
      ],
      "metadata": {
        "nteract": {
          "transient": {
            "deleting": false
          }
        }
      }
    },
    {
      "cell_type": "markdown",
      "source": [
        "## <center>Ubicacción y Nombre del Proyecto</center>\n",
        "Como siguiente paso debemos seleccionar la carpeta en la cual queremos que se cree el proyecto así como el nombre que queremos dar al mismo.\n",
        "\n",
        "En mi caso cree una carpeta específica a la cual como nombre le puse el mismo nombre del proyecto que en este caso será **lerma**.\n",
        "![paso 3](media/screen3.png \"Ubicación y nombre\")"
      ],
      "metadata": {
        "nteract": {
          "transient": {
            "deleting": false
          }
        }
      }
    },
    {
      "cell_type": "markdown",
      "source": [
        "## <center>Configuración</center>\n",
        "\n",
        "A continuación aparecerán ventanas de diálogo referenctes a la configuración del proyecto. Puedes seleccionar \"next\" para cada una de ellas.\n",
        "\n",
        "La pantalla con el título *Class Information* o *Información de Clase* indica los archivos que serán creados que, en este caso, llevan el nombre mainwindow.h y mainwindow.cpp. \n",
        "\n",
        "![paso 4](media/screen4.png \"Configuración\")"
      ],
      "metadata": {
        "nteract": {
          "transient": {
            "deleting": false
          }
        }
      }
    },
    {
      "cell_type": "markdown",
      "source": [
        "## <center>Construcción</center>\n",
        "\n",
        "Una vez creado y configurado el proyecto debemos compilarlo para comprobar que todo es correcto.\n",
        "\n",
        "Presiona el botón del martillo situado en la esquina inferior izquierda o bien presiona *ctrl + B* para compilarlo. Al momento de hacerlo comenzará a llenarse una pequeña barra de progreso en la esquina inferior derecha, espera a que se llene por completo y si se colorea verde entonces tu proyecto no tiene errores.\n",
        "\n",
        "![paso 5](media/screen5.png \"Construcción\")"
      ],
      "metadata": {
        "nteract": {
          "transient": {
            "deleting": false
          }
        }
      }
    },
    {
      "cell_type": "markdown",
      "source": [
        "## <center>Ejecución</center>\n",
        "\n",
        "Ya que está construído el proyecto ahora debemos ejecutarlo presionando el botón play o las teclas *ctrl + R* del panel izquierdo\n",
        "\n",
        "![paso 6](media/screen6.png \"Ejecución\")"
      ],
      "metadata": {
        "nteract": {
          "transient": {
            "deleting": false
          }
        }
      }
    },
    {
      "cell_type": "markdown",
      "source": [
        "## <center>¡Está vivo!</center>\n",
        "\n",
        "Si todo resulta de forma correcta deberías ver en pantalla la ventana del proyecto que acabamos de construir."
      ],
      "metadata": {
        "nteract": {
          "transient": {
            "deleting": false
          }
        }
      }
    },
    {
      "cell_type": "markdown",
      "source": [
        "Por último, bien dicen que una imagen dice más que mil palabras, imagina cuántas palabras ahorraría un vídeo. En la siguiente celda hay código para cargar un vídeo con los pasos descritos en este mini tutorial. \n",
        "\n",
        "Selecciona la siguiente celda y presiona el botón *Run* que se encuentra en la barra de herramientas y deberá aparecer el vídeo."
      ],
      "metadata": {
        "nteract": {
          "transient": {
            "deleting": false
          }
        }
      }
    },
    {
      "cell_type": "code",
      "source": [
        "from IPython.display import HTML\n",
        "\n",
        "HTML(\"\"\"\n",
        "<center>\n",
        "<iframe src=\"\" width=\"320\" height=\"240\"></iframe></center>\n",
        "<center><h3>Vídeo</center>\n",
        "\"\"\")"
      ],
      "outputs": [
        {
          "output_type": "execute_result",
          "execution_count": 2,
          "data": {
            "text/plain": "<IPython.core.display.HTML object>",
            "text/html": "\n<center>\n<iframe src=\"\" width=\"320\" height=\"240\"></iframe></center>\n<center><h3>Vídeo</center>\n"
          },
          "metadata": {}
        }
      ],
      "execution_count": 2,
      "metadata": {
        "collapsed": true,
        "jupyter": {
          "source_hidden": false,
          "outputs_hidden": false
        },
        "nteract": {
          "transient": {
            "deleting": false
          }
        },
        "execution": {
          "iopub.status.busy": "2020-09-11T15:19:25.135Z",
          "iopub.execute_input": "2020-09-11T15:19:25.160Z",
          "iopub.status.idle": "2020-09-11T15:19:25.257Z",
          "shell.execute_reply": "2020-09-11T15:19:25.288Z"
        }
      }
    },
    {
      "cell_type": "code",
      "source": [],
      "outputs": [],
      "execution_count": null,
      "metadata": {
        "collapsed": true,
        "jupyter": {
          "source_hidden": false,
          "outputs_hidden": false
        },
        "nteract": {
          "transient": {
            "deleting": false
          }
        }
      }
    }
  ],
  "metadata": {
    "kernelspec": {
      "name": "xcpp11",
      "display_name": "C++11",
      "language": "C++11"
    },
    "language_info": {
      "name": "python",
      "version": "3.7.3",
      "mimetype": "text/x-python",
      "codemirror_mode": {
        "name": "ipython",
        "version": 3
      },
      "pygments_lexer": "ipython3",
      "nbconvert_exporter": "python",
      "file_extension": ".py"
    },
    "nteract": {
      "version": "0.25.0"
    }
  },
  "nbformat": 4,
  "nbformat_minor": 4
}