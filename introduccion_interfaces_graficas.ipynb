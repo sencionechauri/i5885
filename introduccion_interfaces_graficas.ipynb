{
  "cells": [
    {
      "cell_type": "markdown",
      "source": [
        "# <center>Componentes Gráficos</center>"
      ],
      "metadata": {
        "nteract": {
          "transient": {
            "deleting": false
          }
        }
      }
    },
    {
      "cell_type": "markdown",
      "source": [
        "En este notebook revisaremos algunos de los componentes gráficos necesarios para la primer actividad del curso, pero antes de ello tenemos que ver en dónde se pueden editar dichos componentes."
      ],
      "metadata": {
        "nteract": {
          "transient": {
            "deleting": false
          }
        }
      }
    },
    {
      "cell_type": "markdown",
      "source": [
        "Estando en el editor con tu proyecto abierto, en el panel superior izquierdo se encuentra el esquema general de tu proyecto, busca dentro de la categoría **Forms** el archivo **mainwindow.ui** y ábrelo con doble click.\n",
        "\n",
        "<center><video controls src=\"https://raw.githubusercontent.com/sencionechauri/i5885/master/media/open_ui.mp4\" width=100%/></center>"
      ],
      "metadata": {
        "nteract": {
          "transient": {
            "deleting": false
          }
        }
      }
    },
    {
      "cell_type": "markdown",
      "source": [
        "Una vez hecho esto te debe aparecer el editor de interfaces gráficas. En el panel izquierdo te aparecen todos los componentes gráficos que puedes arrastrar a tu proyecto.\n",
        "\n",
        "<center><video controls src=\"https://raw.githubusercontent.com/sencionechauri/i5885/master/media/panel_componentes.mp4\" width=100%/></center>"
      ],
      "metadata": {
        "nteract": {
          "transient": {
            "deleting": false
          }
        }
      }
    },
    {
      "cell_type": "markdown",
      "source": [
        "En el panel superior derecho se encuentra la estructura de la interfaz gráfica, ahí puedes encontrar cómo están organizados los componentes gráficos y cuál está contenido dentro de qué otro.\n",
        "\n",
        "<center><video controls src=\"https://raw.githubusercontent.com/sencionechauri/i5885/master/media/estructura_ui.mp4\" width=100%/></center>"
      ],
      "metadata": {
        "nteract": {
          "transient": {
            "deleting": false
          }
        }
      }
    },
    {
      "cell_type": "markdown",
      "source": [
        "Finalmente en el panel inferior derecho se encuentran las propiedades o atributos que puedes editar directamente en la interfaz gráfica. No son todos los atributos que se pueden editar, sin embargo son los más comunes. En este panel editaremos los componentes que agreguemos a la interfaz gráfica.\n",
        "\n",
        "<center><video controls src=\"https://raw.githubusercontent.com/sencionechauri/i5885/master/media/panel_propiedades.mp4\" width=100%/></center>\n"
      ],
      "metadata": {
        "nteract": {
          "transient": {
            "deleting": false
          }
        }
      }
    },
    {
      "cell_type": "markdown",
      "source": [
        "A continuación se describen algunos de los componentes que utilizaremos para la primer etapa del proyecto."
      ],
      "metadata": {
        "nteract": {
          "transient": {
            "deleting": false
          }
        }
      }
    },
    {
      "cell_type": "markdown",
      "source": [
        "## <center>QMainWindow</center>\n",
        "\n",
        "Una ventana principal provee un *framework* para construir la interfaz de usuario de una aplicación. Qt posee **QMainWindow** y sus clases relacionadas para la administración de la ventana principal. QMainWindow tiene su propia organización y despliegue (*layout*) en la cual se pueden agregar QToolBars, QDockWidgets, un QMenuBar y una QStatusBar. El layout tiene un área central que puede ser ocupada por cualquier tipo de widget.\n",
        "\n",
        "Algunos de los atributos que podemos modificar son:\n",
        "\n",
        "* geometry: Tamaño de la ventana\n",
        "* windowTitle: Título de la ventana\n",
        "* windowIcon: Ícono de la ventana"
      ],
      "metadata": {
        "nteract": {
          "transient": {
            "deleting": false
          }
        }
      }
    },
    {
      "cell_type": "markdown",
      "source": [
        "## <center>QStackedWidget</center>\n",
        "\n",
        "La clase QStackedWidget provee una pila de componentes en donde solo uno es visible a la vez.\n",
        "\n",
        "Algunos de los atributos que podemos modificar son:\n",
        "\n",
        "* objectName: El nombre del objeto o identificador\n",
        "* geometry: Tamaño del componente\n",
        "* currentIdex: Página actual\n",
        "* currentPageName: Nombre de la página actual"
      ],
      "metadata": {
        "nteract": {
          "transient": {
            "deleting": false
          }
        }
      }
    },
    {
      "cell_type": "markdown",
      "source": [
        "## <center>QLineEdit</center>\n",
        "\n",
        "Un editor de línea le permite al usuario ingresar y editar una línea de texto plano con una colección de funciones de edición como deshacer y rehacer, copiar, pegar, arrastrar y soltar.\n",
        "\n",
        "Algunos de los atributos que podemos modificar son:\n",
        "\n",
        "* objectName: El nombre del objeto o identificador\n",
        "* font: La fuente para el texto\n",
        "* echoMode: La forma en que se despliega el texto\n",
        "* placeholderText: Texto cuando la caja está vacía"
      ],
      "metadata": {
        "nteract": {
          "transient": {
            "deleting": false
          }
        }
      }
    },
    {
      "cell_type": "markdown",
      "source": [
        "## <center>QPushButton</center>\n",
        "\n",
        "El botón de presión o botón de comando es quizá el componente más comunmente utilizado en cualquier interfaz gráfica de usuario. Presiona un botón para ordenarle al programa que realice una acción o para responder una pregunta.\n",
        "\n",
        "Algunos de los atributos que podemos modificar son:\n",
        "\n",
        "* objectName: El nombre del objeto o identificador\n",
        "* geometry: Tamaño del componente\n",
        "* styleSheet: Hoja de estilo del componente\n",
        "* text: El texto que muestra el botón\n"
      ],
      "metadata": {
        "nteract": {
          "transient": {
            "deleting": false
          }
        }
      }
    }
  ],
  "metadata": {
    "kernelspec": {
      "name": "xcpp11",
      "display_name": "C++11",
      "language": "C++11"
    },
    "language_info": {
      "codemirror_mode": "text/x-c++src",
      "file_extension": ".cpp",
      "mimetype": "text/x-c++src",
      "name": "c++",
      "version": "11"
    },
    "nteract": {
      "version": "0.25.0"
    }
  },
  "nbformat": 4,
  "nbformat_minor": 4
}